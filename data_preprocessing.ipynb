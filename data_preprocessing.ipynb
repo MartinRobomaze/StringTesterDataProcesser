{
 "cells": [
  {
   "cell_type": "code",
   "execution_count": 31,
   "metadata": {
    "pycharm": {
     "name": "#%%\n"
    }
   },
   "outputs": [],
   "source": [
    "import numpy as np\n",
    "import pandas as pd\n",
    "from multiprocessing import Pool, cpu_count\n",
    "import plotly.express as px\n",
    "\n",
    "\n",
    "filenames = ['freq_resp_45-55hz_5.5V.csv', 'freq_resp_55-45hz_5.5V.csv']\n",
    "\n",
    "file_path = 'data/'"
   ]
  },
  {
   "cell_type": "code",
   "execution_count": 35,
   "metadata": {
    "pycharm": {
     "name": "#%%\n"
    }
   },
   "outputs": [],
   "source": [
    "min_displacement_mm = 0\n",
    "max_displacement_mm = 1\n",
    "\n",
    "max_displ_x = 0.0061\n",
    "min_displ_x = 0.0235\n",
    "\n",
    "max_displ_y = 0.0056\n",
    "min_displ_y = 0.0331\n",
    "\n",
    "def conv_displacement_to_mm_x(x):\n",
    "    return (x - min_displ_x) * (max_displacement_mm - min_displacement_mm) / \\\n",
    "           (max_displ_x - min_displ_x) + min_displacement_mm\n",
    "\n",
    "def conv_displacement_to_mm_y(x):\n",
    "    return (x - min_displ_y) * (max_displacement_mm - min_displacement_mm) / \\\n",
    "           (max_displ_y - min_displ_y) + min_displacement_mm\n",
    "\n",
    "def modify_waves(waves_data):\n",
    "    neg = False\n",
    "    print('mopslik')\n",
    "    for i in np.arange(len(waves_data)):\n",
    "        if i == 0 or (abs(waves_data[i]) < 0.05 and abs(waves_data[i-1]) > 0.05):\n",
    "            neg = not neg\n",
    "\n",
    "        if neg:\n",
    "            waves_data[i] = -waves_data[i]\n",
    "\n",
    "    return waves_data\n"
   ]
  },
  {
   "cell_type": "code",
   "execution_count": 33,
   "metadata": {
    "pycharm": {
     "name": "#%%\n"
    }
   },
   "outputs": [],
   "source": [
    "data = []\n",
    "\n",
    "# Read data files.\n",
    "for filename in filenames:\n",
    "    file = pd.read_csv(file_path + filename)\n",
    "    data.append(file)"
   ]
  },
  {
   "cell_type": "code",
   "execution_count": 34,
   "metadata": {
    "pycharm": {
     "name": "#%%\n"
    }
   },
   "outputs": [
    {
     "name": "stdout",
     "output_type": "stream",
     "text": [
      "0.0278103616813294\n",
      "0.0060117302052785\n",
      "0.0330889540566959\n",
      "0.0055718475073313\n"
     ]
    }
   ],
   "source": [
    "print(max(data[0]['x_val']))\n",
    "print(min(data[0]['x_val']))\n",
    "\n",
    "print(max(data[0]['y_val']))\n",
    "print(min(data[0]['y_val']))"
   ]
  },
  {
   "cell_type": "code",
   "execution_count": 36,
   "metadata": {
    "pycharm": {
     "name": "#%%\n"
    }
   },
   "outputs": [],
   "source": [
    "for df in data:\n",
    "    with Pool(cpu_count()) as p:\n",
    "        if 'x_val' in df.columns:\n",
    "            df['x_val'] = p.map(conv_displacement_to_mm_x, df['x_val'])\n",
    "        df['y_val'] = p.map(conv_displacement_to_mm_y, df['y_val'])\n",
    "#         if 'x_val' in df.columns:\n",
    "#             df['x_val'], df['y_val'] = p.map(modify_waves, (df['x_val'], df['y_val']))\n",
    "#         else:\n",
    "#             df['y_val'] = modify_waves(df['y_val'])\n"
   ]
  },
  {
   "cell_type": "code",
   "execution_count": 50,
   "metadata": {},
   "outputs": [],
   "source": [
    "df['x_val'] = df['x_val'] + 0.1"
   ]
  },
  {
   "cell_type": "code",
   "execution_count": 37,
   "metadata": {
    "pycharm": {
     "name": "#%%\n"
    }
   },
   "outputs": [],
   "source": [
    "for i, df in enumerate(data):\n",
    "    df.to_csv(file_path + filenames[i].split('.csv')[0] + '_processed.csv')"
   ]
  }
 ],
 "metadata": {
  "kernelspec": {
   "display_name": "Python 3",
   "language": "python",
   "name": "python3"
  },
  "language_info": {
   "codemirror_mode": {
    "name": "ipython",
    "version": 3
   },
   "file_extension": ".py",
   "mimetype": "text/x-python",
   "name": "python",
   "nbconvert_exporter": "python",
   "pygments_lexer": "ipython3",
   "version": "3.8.5"
  }
 },
 "nbformat": 4,
 "nbformat_minor": 1
}
